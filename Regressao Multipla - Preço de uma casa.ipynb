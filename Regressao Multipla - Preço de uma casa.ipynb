{
  "nbformat": 4,
  "nbformat_minor": 0,
  "metadata": {
    "colab": {
      "name": "Untitled4.ipynb",
      "provenance": [],
      "authorship_tag": "ABX9TyPD5JJ2S+LtHufAe5SVFRH/",
      "include_colab_link": true
    },
    "kernelspec": {
      "name": "python3",
      "display_name": "Python 3"
    },
    "language_info": {
      "name": "python"
    }
  },
  "cells": [
    {
      "cell_type": "markdown",
      "metadata": {
        "id": "view-in-github",
        "colab_type": "text"
      },
      "source": [
        "<a href=\"https://colab.research.google.com/github/dhenneyse/dhenneyse/blob/main/Regressao%20Multipla%20-%20Pre%C3%A7o%20de%20uma%20casa.ipynb\" target=\"_parent\"><img src=\"https://colab.research.google.com/assets/colab-badge.svg\" alt=\"Open In Colab\"/></a>"
      ]
    },
    {
      "cell_type": "markdown",
      "metadata": {
        "id": "VAZF_yNV-_nV"
      },
      "source": [
        "# **Regressão Linear Múltipla**\n",
        "\n",
        "* **Prever o preço de uma casa.**\n",
        "\n",
        "* *Quais características são mais importantes?* \n",
        "      \n",
        "      "
      ]
    },
    {
      "cell_type": "code",
      "metadata": {
        "colab": {
          "base_uri": "https://localhost:8080/",
          "height": 377
        },
        "id": "y1NqhMx88RLw",
        "outputId": "f40b6e49-c4c7-4432-9eac-9352bbb79009"
      },
      "source": [
        "import pandas as pd \n",
        "import statsmodels.api as sm\n",
        "import matplotlib.pyplot as plt\n",
        "from scipy.stats import norm\n",
        "import math\n",
        "import seaborn as sns\n",
        "from sklearn.linear_model import LinearRegression\n",
        "from sklearn.model_selection import train_test_split\n",
        "from sklearn import preprocessing\n",
        "\n",
        "dados = pd.read_csv(\"https://raw.githubusercontent.com/dhenneyse/dhenneyse/main/data.csv\")\n",
        "\n",
        "dados.head()"
      ],
      "execution_count": 84,
      "outputs": [
        {
          "output_type": "execute_result",
          "data": {
            "text/html": [
              "<div>\n",
              "<style scoped>\n",
              "    .dataframe tbody tr th:only-of-type {\n",
              "        vertical-align: middle;\n",
              "    }\n",
              "\n",
              "    .dataframe tbody tr th {\n",
              "        vertical-align: top;\n",
              "    }\n",
              "\n",
              "    .dataframe thead th {\n",
              "        text-align: right;\n",
              "    }\n",
              "</style>\n",
              "<table border=\"1\" class=\"dataframe\">\n",
              "  <thead>\n",
              "    <tr style=\"text-align: right;\">\n",
              "      <th></th>\n",
              "      <th>price</th>\n",
              "      <th>bedrooms</th>\n",
              "      <th>bathrooms</th>\n",
              "      <th>sqft_living</th>\n",
              "      <th>sqft_lot</th>\n",
              "      <th>floors</th>\n",
              "      <th>waterfront</th>\n",
              "      <th>view</th>\n",
              "      <th>condition</th>\n",
              "      <th>sqft_above</th>\n",
              "      <th>sqft_basement</th>\n",
              "      <th>yr_built</th>\n",
              "      <th>yr_renovated</th>\n",
              "      <th>street</th>\n",
              "      <th>city</th>\n",
              "      <th>statezip</th>\n",
              "      <th>country</th>\n",
              "    </tr>\n",
              "  </thead>\n",
              "  <tbody>\n",
              "    <tr>\n",
              "      <th>0</th>\n",
              "      <td>313000.0</td>\n",
              "      <td>3.0</td>\n",
              "      <td>1.50</td>\n",
              "      <td>1340</td>\n",
              "      <td>7912</td>\n",
              "      <td>1.5</td>\n",
              "      <td>0</td>\n",
              "      <td>0</td>\n",
              "      <td>3</td>\n",
              "      <td>1340</td>\n",
              "      <td>0</td>\n",
              "      <td>1955</td>\n",
              "      <td>2005</td>\n",
              "      <td>18810 Densmore Ave N</td>\n",
              "      <td>Shoreline</td>\n",
              "      <td>WA 98133</td>\n",
              "      <td>USA</td>\n",
              "    </tr>\n",
              "    <tr>\n",
              "      <th>1</th>\n",
              "      <td>2384000.0</td>\n",
              "      <td>5.0</td>\n",
              "      <td>2.50</td>\n",
              "      <td>3650</td>\n",
              "      <td>9050</td>\n",
              "      <td>2.0</td>\n",
              "      <td>0</td>\n",
              "      <td>4</td>\n",
              "      <td>5</td>\n",
              "      <td>3370</td>\n",
              "      <td>280</td>\n",
              "      <td>1921</td>\n",
              "      <td>0</td>\n",
              "      <td>709 W Blaine St</td>\n",
              "      <td>Seattle</td>\n",
              "      <td>WA 98119</td>\n",
              "      <td>USA</td>\n",
              "    </tr>\n",
              "    <tr>\n",
              "      <th>2</th>\n",
              "      <td>342000.0</td>\n",
              "      <td>3.0</td>\n",
              "      <td>2.00</td>\n",
              "      <td>1930</td>\n",
              "      <td>11947</td>\n",
              "      <td>1.0</td>\n",
              "      <td>0</td>\n",
              "      <td>0</td>\n",
              "      <td>4</td>\n",
              "      <td>1930</td>\n",
              "      <td>0</td>\n",
              "      <td>1966</td>\n",
              "      <td>0</td>\n",
              "      <td>26206-26214 143rd Ave SE</td>\n",
              "      <td>Kent</td>\n",
              "      <td>WA 98042</td>\n",
              "      <td>USA</td>\n",
              "    </tr>\n",
              "    <tr>\n",
              "      <th>3</th>\n",
              "      <td>420000.0</td>\n",
              "      <td>3.0</td>\n",
              "      <td>2.25</td>\n",
              "      <td>2000</td>\n",
              "      <td>8030</td>\n",
              "      <td>1.0</td>\n",
              "      <td>0</td>\n",
              "      <td>0</td>\n",
              "      <td>4</td>\n",
              "      <td>1000</td>\n",
              "      <td>1000</td>\n",
              "      <td>1963</td>\n",
              "      <td>0</td>\n",
              "      <td>857 170th Pl NE</td>\n",
              "      <td>Bellevue</td>\n",
              "      <td>WA 98008</td>\n",
              "      <td>USA</td>\n",
              "    </tr>\n",
              "    <tr>\n",
              "      <th>4</th>\n",
              "      <td>550000.0</td>\n",
              "      <td>4.0</td>\n",
              "      <td>2.50</td>\n",
              "      <td>1940</td>\n",
              "      <td>10500</td>\n",
              "      <td>1.0</td>\n",
              "      <td>0</td>\n",
              "      <td>0</td>\n",
              "      <td>4</td>\n",
              "      <td>1140</td>\n",
              "      <td>800</td>\n",
              "      <td>1976</td>\n",
              "      <td>1992</td>\n",
              "      <td>9105 170th Ave NE</td>\n",
              "      <td>Redmond</td>\n",
              "      <td>WA 98052</td>\n",
              "      <td>USA</td>\n",
              "    </tr>\n",
              "  </tbody>\n",
              "</table>\n",
              "</div>"
            ],
            "text/plain": [
              "       price  bedrooms  bathrooms  ...       city  statezip  country\n",
              "0   313000.0       3.0       1.50  ...  Shoreline  WA 98133      USA\n",
              "1  2384000.0       5.0       2.50  ...    Seattle  WA 98119      USA\n",
              "2   342000.0       3.0       2.00  ...       Kent  WA 98042      USA\n",
              "3   420000.0       3.0       2.25  ...   Bellevue  WA 98008      USA\n",
              "4   550000.0       4.0       2.50  ...    Redmond  WA 98052      USA\n",
              "\n",
              "[5 rows x 17 columns]"
            ]
          },
          "metadata": {
            "tags": []
          },
          "execution_count": 84
        }
      ]
    },
    {
      "cell_type": "code",
      "metadata": {
        "colab": {
          "base_uri": "https://localhost:8080/",
          "height": 317
        },
        "id": "BVyAlZRsA4WT",
        "outputId": "93d157ad-95fe-4852-a8fc-77bff1896b06"
      },
      "source": [
        "dados.describe()"
      ],
      "execution_count": 45,
      "outputs": [
        {
          "output_type": "execute_result",
          "data": {
            "text/html": [
              "<div>\n",
              "<style scoped>\n",
              "    .dataframe tbody tr th:only-of-type {\n",
              "        vertical-align: middle;\n",
              "    }\n",
              "\n",
              "    .dataframe tbody tr th {\n",
              "        vertical-align: top;\n",
              "    }\n",
              "\n",
              "    .dataframe thead th {\n",
              "        text-align: right;\n",
              "    }\n",
              "</style>\n",
              "<table border=\"1\" class=\"dataframe\">\n",
              "  <thead>\n",
              "    <tr style=\"text-align: right;\">\n",
              "      <th></th>\n",
              "      <th>price</th>\n",
              "      <th>bedrooms</th>\n",
              "      <th>bathrooms</th>\n",
              "      <th>sqft_living</th>\n",
              "      <th>sqft_lot</th>\n",
              "      <th>floors</th>\n",
              "      <th>waterfront</th>\n",
              "      <th>view</th>\n",
              "      <th>condition</th>\n",
              "      <th>sqft_above</th>\n",
              "      <th>sqft_basement</th>\n",
              "      <th>yr_built</th>\n",
              "      <th>yr_renovated</th>\n",
              "    </tr>\n",
              "  </thead>\n",
              "  <tbody>\n",
              "    <tr>\n",
              "      <th>count</th>\n",
              "      <td>4.600000e+03</td>\n",
              "      <td>4600.000000</td>\n",
              "      <td>4600.000000</td>\n",
              "      <td>4600.000000</td>\n",
              "      <td>4.600000e+03</td>\n",
              "      <td>4600.000000</td>\n",
              "      <td>4600.000000</td>\n",
              "      <td>4600.000000</td>\n",
              "      <td>4600.000000</td>\n",
              "      <td>4600.000000</td>\n",
              "      <td>4600.000000</td>\n",
              "      <td>4600.000000</td>\n",
              "      <td>4600.000000</td>\n",
              "    </tr>\n",
              "    <tr>\n",
              "      <th>mean</th>\n",
              "      <td>5.519630e+05</td>\n",
              "      <td>3.400870</td>\n",
              "      <td>2.160815</td>\n",
              "      <td>2139.346957</td>\n",
              "      <td>1.485252e+04</td>\n",
              "      <td>1.512065</td>\n",
              "      <td>0.007174</td>\n",
              "      <td>0.240652</td>\n",
              "      <td>3.451739</td>\n",
              "      <td>1827.265435</td>\n",
              "      <td>312.081522</td>\n",
              "      <td>1970.786304</td>\n",
              "      <td>808.608261</td>\n",
              "    </tr>\n",
              "    <tr>\n",
              "      <th>std</th>\n",
              "      <td>5.638347e+05</td>\n",
              "      <td>0.908848</td>\n",
              "      <td>0.783781</td>\n",
              "      <td>963.206916</td>\n",
              "      <td>3.588444e+04</td>\n",
              "      <td>0.538288</td>\n",
              "      <td>0.084404</td>\n",
              "      <td>0.778405</td>\n",
              "      <td>0.677230</td>\n",
              "      <td>862.168977</td>\n",
              "      <td>464.137228</td>\n",
              "      <td>29.731848</td>\n",
              "      <td>979.414536</td>\n",
              "    </tr>\n",
              "    <tr>\n",
              "      <th>min</th>\n",
              "      <td>0.000000e+00</td>\n",
              "      <td>0.000000</td>\n",
              "      <td>0.000000</td>\n",
              "      <td>370.000000</td>\n",
              "      <td>6.380000e+02</td>\n",
              "      <td>1.000000</td>\n",
              "      <td>0.000000</td>\n",
              "      <td>0.000000</td>\n",
              "      <td>1.000000</td>\n",
              "      <td>370.000000</td>\n",
              "      <td>0.000000</td>\n",
              "      <td>1900.000000</td>\n",
              "      <td>0.000000</td>\n",
              "    </tr>\n",
              "    <tr>\n",
              "      <th>25%</th>\n",
              "      <td>3.228750e+05</td>\n",
              "      <td>3.000000</td>\n",
              "      <td>1.750000</td>\n",
              "      <td>1460.000000</td>\n",
              "      <td>5.000750e+03</td>\n",
              "      <td>1.000000</td>\n",
              "      <td>0.000000</td>\n",
              "      <td>0.000000</td>\n",
              "      <td>3.000000</td>\n",
              "      <td>1190.000000</td>\n",
              "      <td>0.000000</td>\n",
              "      <td>1951.000000</td>\n",
              "      <td>0.000000</td>\n",
              "    </tr>\n",
              "    <tr>\n",
              "      <th>50%</th>\n",
              "      <td>4.609435e+05</td>\n",
              "      <td>3.000000</td>\n",
              "      <td>2.250000</td>\n",
              "      <td>1980.000000</td>\n",
              "      <td>7.683000e+03</td>\n",
              "      <td>1.500000</td>\n",
              "      <td>0.000000</td>\n",
              "      <td>0.000000</td>\n",
              "      <td>3.000000</td>\n",
              "      <td>1590.000000</td>\n",
              "      <td>0.000000</td>\n",
              "      <td>1976.000000</td>\n",
              "      <td>0.000000</td>\n",
              "    </tr>\n",
              "    <tr>\n",
              "      <th>75%</th>\n",
              "      <td>6.549625e+05</td>\n",
              "      <td>4.000000</td>\n",
              "      <td>2.500000</td>\n",
              "      <td>2620.000000</td>\n",
              "      <td>1.100125e+04</td>\n",
              "      <td>2.000000</td>\n",
              "      <td>0.000000</td>\n",
              "      <td>0.000000</td>\n",
              "      <td>4.000000</td>\n",
              "      <td>2300.000000</td>\n",
              "      <td>610.000000</td>\n",
              "      <td>1997.000000</td>\n",
              "      <td>1999.000000</td>\n",
              "    </tr>\n",
              "    <tr>\n",
              "      <th>max</th>\n",
              "      <td>2.659000e+07</td>\n",
              "      <td>9.000000</td>\n",
              "      <td>8.000000</td>\n",
              "      <td>13540.000000</td>\n",
              "      <td>1.074218e+06</td>\n",
              "      <td>3.500000</td>\n",
              "      <td>1.000000</td>\n",
              "      <td>4.000000</td>\n",
              "      <td>5.000000</td>\n",
              "      <td>9410.000000</td>\n",
              "      <td>4820.000000</td>\n",
              "      <td>2014.000000</td>\n",
              "      <td>2014.000000</td>\n",
              "    </tr>\n",
              "  </tbody>\n",
              "</table>\n",
              "</div>"
            ],
            "text/plain": [
              "              price     bedrooms  ...     yr_built  yr_renovated\n",
              "count  4.600000e+03  4600.000000  ...  4600.000000   4600.000000\n",
              "mean   5.519630e+05     3.400870  ...  1970.786304    808.608261\n",
              "std    5.638347e+05     0.908848  ...    29.731848    979.414536\n",
              "min    0.000000e+00     0.000000  ...  1900.000000      0.000000\n",
              "25%    3.228750e+05     3.000000  ...  1951.000000      0.000000\n",
              "50%    4.609435e+05     3.000000  ...  1976.000000      0.000000\n",
              "75%    6.549625e+05     4.000000  ...  1997.000000   1999.000000\n",
              "max    2.659000e+07     9.000000  ...  2014.000000   2014.000000\n",
              "\n",
              "[8 rows x 13 columns]"
            ]
          },
          "metadata": {
            "tags": []
          },
          "execution_count": 45
        }
      ]
    },
    {
      "cell_type": "code",
      "metadata": {
        "colab": {
          "base_uri": "https://localhost:8080/",
          "height": 416
        },
        "id": "aO5UGp_QDFAR",
        "outputId": "cbc73706-abb4-44c3-e64a-b441156f1d4a"
      },
      "source": [
        "#Preço médio de acordo com o número de quartos:\n",
        "plt.figure(figsize=(10,6))\n",
        "sns.barplot(x=dados.bedrooms, y=dados['price'])\n",
        "\n",
        "#Existe um número alto de casas com número de quartos igual a zero."
      ],
      "execution_count": 92,
      "outputs": [
        {
          "output_type": "execute_result",
          "data": {
            "text/plain": [
              "<matplotlib.axes._subplots.AxesSubplot at 0x7f94b51eab90>"
            ]
          },
          "metadata": {
            "tags": []
          },
          "execution_count": 92
        },
        {
          "output_type": "display_data",
          "data": {
            "image/png": "[encoded data removed]",
            "text/plain": [
              "<Figure size 720x432 with 1 Axes>"
            ]
          },
          "metadata": {
            "tags": [],
            "needs_background": "light"
          }
        }
      ]
    },
    {
      "cell_type": "code",
      "metadata": {
        "colab": {
          "base_uri": "https://localhost:8080/",
          "height": 390
        },
        "id": "QTB1AFL5Elu6",
        "outputId": "7ad4a956-5692-4cdc-af2f-1414a2dd3040"
      },
      "source": [
        "#Preços de acordo com a quantidade de quartos\n",
        "quartos = dados.groupby(['bedrooms']).price.agg([len, min, max])\n",
        "quartos\n",
        "\n",
        "#Existem casas com preço igual a zero."
      ],
      "execution_count": 76,
      "outputs": [
        {
          "output_type": "execute_result",
          "data": {
            "text/html": [
              "<div>\n",
              "<style scoped>\n",
              "    .dataframe tbody tr th:only-of-type {\n",
              "        vertical-align: middle;\n",
              "    }\n",
              "\n",
              "    .dataframe tbody tr th {\n",
              "        vertical-align: top;\n",
              "    }\n",
              "\n",
              "    .dataframe thead th {\n",
              "        text-align: right;\n",
              "    }\n",
              "</style>\n",
              "<table border=\"1\" class=\"dataframe\">\n",
              "  <thead>\n",
              "    <tr style=\"text-align: right;\">\n",
              "      <th></th>\n",
              "      <th>len</th>\n",
              "      <th>min</th>\n",
              "      <th>max</th>\n",
              "    </tr>\n",
              "    <tr>\n",
              "      <th>bedrooms</th>\n",
              "      <th></th>\n",
              "      <th></th>\n",
              "      <th></th>\n",
              "    </tr>\n",
              "  </thead>\n",
              "  <tbody>\n",
              "    <tr>\n",
              "      <th>0.0</th>\n",
              "      <td>2.0</td>\n",
              "      <td>1095000.0</td>\n",
              "      <td>1295648.0</td>\n",
              "    </tr>\n",
              "    <tr>\n",
              "      <th>1.0</th>\n",
              "      <td>38.0</td>\n",
              "      <td>0.0</td>\n",
              "      <td>540000.0</td>\n",
              "    </tr>\n",
              "    <tr>\n",
              "      <th>2.0</th>\n",
              "      <td>566.0</td>\n",
              "      <td>0.0</td>\n",
              "      <td>1695000.0</td>\n",
              "    </tr>\n",
              "    <tr>\n",
              "      <th>3.0</th>\n",
              "      <td>2032.0</td>\n",
              "      <td>0.0</td>\n",
              "      <td>26590000.0</td>\n",
              "    </tr>\n",
              "    <tr>\n",
              "      <th>4.0</th>\n",
              "      <td>1531.0</td>\n",
              "      <td>0.0</td>\n",
              "      <td>4489000.0</td>\n",
              "    </tr>\n",
              "    <tr>\n",
              "      <th>5.0</th>\n",
              "      <td>353.0</td>\n",
              "      <td>0.0</td>\n",
              "      <td>7062500.0</td>\n",
              "    </tr>\n",
              "    <tr>\n",
              "      <th>6.0</th>\n",
              "      <td>61.0</td>\n",
              "      <td>0.0</td>\n",
              "      <td>3100000.0</td>\n",
              "    </tr>\n",
              "    <tr>\n",
              "      <th>7.0</th>\n",
              "      <td>14.0</td>\n",
              "      <td>280000.0</td>\n",
              "      <td>3200000.0</td>\n",
              "    </tr>\n",
              "    <tr>\n",
              "      <th>8.0</th>\n",
              "      <td>2.0</td>\n",
              "      <td>340000.0</td>\n",
              "      <td>1970000.0</td>\n",
              "    </tr>\n",
              "    <tr>\n",
              "      <th>9.0</th>\n",
              "      <td>1.0</td>\n",
              "      <td>599999.0</td>\n",
              "      <td>599999.0</td>\n",
              "    </tr>\n",
              "  </tbody>\n",
              "</table>\n",
              "</div>"
            ],
            "text/plain": [
              "             len        min         max\n",
              "bedrooms                               \n",
              "0.0          2.0  1095000.0   1295648.0\n",
              "1.0         38.0        0.0    540000.0\n",
              "2.0        566.0        0.0   1695000.0\n",
              "3.0       2032.0        0.0  26590000.0\n",
              "4.0       1531.0        0.0   4489000.0\n",
              "5.0        353.0        0.0   7062500.0\n",
              "6.0         61.0        0.0   3100000.0\n",
              "7.0         14.0   280000.0   3200000.0\n",
              "8.0          2.0   340000.0   1970000.0\n",
              "9.0          1.0   599999.0    599999.0"
            ]
          },
          "metadata": {
            "tags": []
          },
          "execution_count": 76
        }
      ]
    },
    {
      "cell_type": "code",
      "metadata": {
        "colab": {
          "base_uri": "https://localhost:8080/"
        },
        "id": "3IPDb-87HIz6",
        "outputId": "9a2aece6-e16c-4db1-f2fc-7585ff5779ee"
      },
      "source": [
        "#Verificar a quantidade de casas com valor nulo\n",
        "dados_zero= dados[dados.price==0]\n",
        "print('Existem '+str(len(dados_zero))+' casas sem preço.')"
      ],
      "execution_count": 79,
      "outputs": [
        {
          "output_type": "stream",
          "text": [
            "Existem 49 casas sem preço.\n"
          ],
          "name": "stdout"
        }
      ]
    },
    {
      "cell_type": "code",
      "metadata": {
        "id": "Pi6kh3aeLzU3"
      },
      "source": [
        "#Remover casas com valores elevados, com quantidade de quartos igual a zero e preço igual a zero.\n",
        "dados_o = dados[(dados.price<2.5*10**7) & (dados.bedrooms>0) & (dados.price>0)].copy()\n"
      ],
      "execution_count": 94,
      "outputs": []
    },
    {
      "cell_type": "code",
      "metadata": {
        "id": "iuxKTBTOUzDh"
      },
      "source": [
        "#Foram escolhidos os itens \"bedrooms,\tbathrooms e\tsqft_living\"\n",
        "X = dados_o.iloc[:,[1,2,3]].values\n",
        "y = dados_o.iloc[:,[0]].values"
      ],
      "execution_count": 103,
      "outputs": []
    },
    {
      "cell_type": "code",
      "metadata": {
        "id": "Lqu_HSbLuA7k"
      },
      "source": [
        "X_train = X[0:35]\n",
        "X_test = X[35:] "
      ],
      "execution_count": 100,
      "outputs": []
    },
    {
      "cell_type": "code",
      "metadata": {
        "id": "zQ7weZEXWlx8"
      },
      "source": [
        "y_train = y[0:35]\n",
        "y_test = y[35:]"
      ],
      "execution_count": 101,
      "outputs": []
    },
    {
      "cell_type": "code",
      "metadata": {
        "colab": {
          "base_uri": "https://localhost:8080/"
        },
        "id": "z8yQtF3jK505",
        "outputId": "cd619109-9eae-42b0-cfc8-75f1b9a5d3ce"
      },
      "source": [
        "#Treinar um modelo de regressão múltipla e imprimir os coeficientes \n",
        "mod = sm.OLS(y_train, X_train)\n",
        "res = mod.fit()\n",
        "print(res.summary())"
      ],
      "execution_count": 102,
      "outputs": [
        {
          "output_type": "stream",
          "text": [
            "                                 OLS Regression Results                                \n",
            "=======================================================================================\n",
            "Dep. Variable:                      y   R-squared (uncentered):                   0.817\n",
            "Model:                            OLS   Adj. R-squared (uncentered):              0.799\n",
            "Method:                 Least Squares   F-statistic:                              47.47\n",
            "Date:                Fri, 02 Apr 2021   Prob (F-statistic):                    6.92e-12\n",
            "Time:                        20:31:30   Log-Likelihood:                         -491.24\n",
            "No. Observations:                  35   AIC:                                      988.5\n",
            "Df Residuals:                      32   BIC:                                      993.1\n",
            "Df Model:                           3                                                  \n",
            "Covariance Type:            nonrobust                                                  \n",
            "==============================================================================\n",
            "                 coef    std err          t      P>|t|      [0.025      0.975]\n",
            "------------------------------------------------------------------------------\n",
            "x1          1.204e+05   7.01e+04      1.716      0.096   -2.25e+04    2.63e+05\n",
            "x2         -3.074e+05   1.57e+05     -1.955      0.059   -6.28e+05    1.29e+04\n",
            "x3           380.2718    130.877      2.906      0.007     113.684     646.860\n",
            "==============================================================================\n",
            "Omnibus:                       23.091   Durbin-Watson:                   2.118\n",
            "Prob(Omnibus):                  0.000   Jarque-Bera (JB):               48.041\n",
            "Skew:                           1.501   Prob(JB):                     3.70e-11\n",
            "Kurtosis:                       7.892   Cond. No.                     6.76e+03\n",
            "==============================================================================\n",
            "\n",
            "Warnings:\n",
            "[1] Standard Errors assume that the covariance matrix of the errors is correctly specified.\n",
            "[2] The condition number is large, 6.76e+03. This might indicate that there are\n",
            "strong multicollinearity or other numerical problems.\n"
          ],
          "name": "stdout"
        }
      ]
    },
    {
      "cell_type": "code",
      "metadata": {
        "colab": {
          "base_uri": "https://localhost:8080/",
          "height": 472
        },
        "id": "ZRvceJ33CZDo",
        "outputId": "cbc005e3-7722-4033-8a14-c8f319f24b73"
      },
      "source": [
        "#Análise de correlação, verificar quais atributos interferem mais no resultado, após a atualização dos dados.\n",
        "\n",
        "dados_o.corr()"
      ],
      "execution_count": 96,
      "outputs": [
        {
          "output_type": "execute_result",
          "data": {
            "text/html": [
              "<div>\n",
              "<style scoped>\n",
              "    .dataframe tbody tr th:only-of-type {\n",
              "        vertical-align: middle;\n",
              "    }\n",
              "\n",
              "    .dataframe tbody tr th {\n",
              "        vertical-align: top;\n",
              "    }\n",
              "\n",
              "    .dataframe thead th {\n",
              "        text-align: right;\n",
              "    }\n",
              "</style>\n",
              "<table border=\"1\" class=\"dataframe\">\n",
              "  <thead>\n",
              "    <tr style=\"text-align: right;\">\n",
              "      <th></th>\n",
              "      <th>price</th>\n",
              "      <th>bedrooms</th>\n",
              "      <th>bathrooms</th>\n",
              "      <th>sqft_living</th>\n",
              "      <th>sqft_lot</th>\n",
              "      <th>floors</th>\n",
              "      <th>waterfront</th>\n",
              "      <th>view</th>\n",
              "      <th>condition</th>\n",
              "      <th>sqft_above</th>\n",
              "      <th>sqft_basement</th>\n",
              "      <th>yr_built</th>\n",
              "      <th>yr_renovated</th>\n",
              "    </tr>\n",
              "  </thead>\n",
              "  <tbody>\n",
              "    <tr>\n",
              "      <th>price</th>\n",
              "      <td>1.000000</td>\n",
              "      <td>0.298093</td>\n",
              "      <td>0.473638</td>\n",
              "      <td>0.624519</td>\n",
              "      <td>0.073131</td>\n",
              "      <td>0.221824</td>\n",
              "      <td>0.207156</td>\n",
              "      <td>0.336839</td>\n",
              "      <td>0.042480</td>\n",
              "      <td>0.531923</td>\n",
              "      <td>0.308729</td>\n",
              "      <td>0.019494</td>\n",
              "      <td>-0.029203</td>\n",
              "    </tr>\n",
              "    <tr>\n",
              "      <th>bedrooms</th>\n",
              "      <td>0.298093</td>\n",
              "      <td>1.000000</td>\n",
              "      <td>0.545640</td>\n",
              "      <td>0.601597</td>\n",
              "      <td>0.071415</td>\n",
              "      <td>0.180789</td>\n",
              "      <td>-0.005681</td>\n",
              "      <td>0.117137</td>\n",
              "      <td>0.022071</td>\n",
              "      <td>0.492024</td>\n",
              "      <td>0.335026</td>\n",
              "      <td>0.143099</td>\n",
              "      <td>-0.060489</td>\n",
              "    </tr>\n",
              "    <tr>\n",
              "      <th>bathrooms</th>\n",
              "      <td>0.473638</td>\n",
              "      <td>0.545640</td>\n",
              "      <td>1.000000</td>\n",
              "      <td>0.761587</td>\n",
              "      <td>0.109565</td>\n",
              "      <td>0.493984</td>\n",
              "      <td>0.063315</td>\n",
              "      <td>0.207221</td>\n",
              "      <td>-0.121770</td>\n",
              "      <td>0.692507</td>\n",
              "      <td>0.295530</td>\n",
              "      <td>0.465919</td>\n",
              "      <td>-0.217157</td>\n",
              "    </tr>\n",
              "    <tr>\n",
              "      <th>sqft_living</th>\n",
              "      <td>0.624519</td>\n",
              "      <td>0.601597</td>\n",
              "      <td>0.761587</td>\n",
              "      <td>1.000000</td>\n",
              "      <td>0.213295</td>\n",
              "      <td>0.342904</td>\n",
              "      <td>0.107924</td>\n",
              "      <td>0.309491</td>\n",
              "      <td>-0.061875</td>\n",
              "      <td>0.875404</td>\n",
              "      <td>0.450633</td>\n",
              "      <td>0.284702</td>\n",
              "      <td>-0.122969</td>\n",
              "    </tr>\n",
              "    <tr>\n",
              "      <th>sqft_lot</th>\n",
              "      <td>0.073131</td>\n",
              "      <td>0.071415</td>\n",
              "      <td>0.109565</td>\n",
              "      <td>0.213295</td>\n",
              "      <td>1.000000</td>\n",
              "      <td>0.004366</td>\n",
              "      <td>0.017406</td>\n",
              "      <td>0.072726</td>\n",
              "      <td>0.000977</td>\n",
              "      <td>0.219335</td>\n",
              "      <td>0.035885</td>\n",
              "      <td>0.049191</td>\n",
              "      <td>-0.021136</td>\n",
              "    </tr>\n",
              "    <tr>\n",
              "      <th>floors</th>\n",
              "      <td>0.221824</td>\n",
              "      <td>0.180789</td>\n",
              "      <td>0.493984</td>\n",
              "      <td>0.342904</td>\n",
              "      <td>0.004366</td>\n",
              "      <td>1.000000</td>\n",
              "      <td>0.015897</td>\n",
              "      <td>0.030175</td>\n",
              "      <td>-0.273451</td>\n",
              "      <td>0.521917</td>\n",
              "      <td>-0.254972</td>\n",
              "      <td>0.467045</td>\n",
              "      <td>-0.237878</td>\n",
              "    </tr>\n",
              "    <tr>\n",
              "      <th>waterfront</th>\n",
              "      <td>0.207156</td>\n",
              "      <td>-0.005681</td>\n",
              "      <td>0.063315</td>\n",
              "      <td>0.107924</td>\n",
              "      <td>0.017406</td>\n",
              "      <td>0.015897</td>\n",
              "      <td>1.000000</td>\n",
              "      <td>0.347814</td>\n",
              "      <td>0.006103</td>\n",
              "      <td>0.072697</td>\n",
              "      <td>0.088858</td>\n",
              "      <td>-0.031986</td>\n",
              "      <td>0.015857</td>\n",
              "    </tr>\n",
              "    <tr>\n",
              "      <th>view</th>\n",
              "      <td>0.336839</td>\n",
              "      <td>0.117137</td>\n",
              "      <td>0.207221</td>\n",
              "      <td>0.309491</td>\n",
              "      <td>0.072726</td>\n",
              "      <td>0.030175</td>\n",
              "      <td>0.347814</td>\n",
              "      <td>1.000000</td>\n",
              "      <td>0.062957</td>\n",
              "      <td>0.174468</td>\n",
              "      <td>0.317607</td>\n",
              "      <td>-0.066630</td>\n",
              "      <td>0.025277</td>\n",
              "    </tr>\n",
              "    <tr>\n",
              "      <th>condition</th>\n",
              "      <td>0.042480</td>\n",
              "      <td>0.022071</td>\n",
              "      <td>-0.121770</td>\n",
              "      <td>-0.061875</td>\n",
              "      <td>0.000977</td>\n",
              "      <td>-0.273451</td>\n",
              "      <td>0.006103</td>\n",
              "      <td>0.062957</td>\n",
              "      <td>1.000000</td>\n",
              "      <td>-0.176008</td>\n",
              "      <td>0.197131</td>\n",
              "      <td>-0.398952</td>\n",
              "      <td>-0.184082</td>\n",
              "    </tr>\n",
              "    <tr>\n",
              "      <th>sqft_above</th>\n",
              "      <td>0.531923</td>\n",
              "      <td>0.492024</td>\n",
              "      <td>0.692507</td>\n",
              "      <td>0.875404</td>\n",
              "      <td>0.219335</td>\n",
              "      <td>0.521917</td>\n",
              "      <td>0.072697</td>\n",
              "      <td>0.174468</td>\n",
              "      <td>-0.176008</td>\n",
              "      <td>1.000000</td>\n",
              "      <td>-0.037043</td>\n",
              "      <td>0.406578</td>\n",
              "      <td>-0.163085</td>\n",
              "    </tr>\n",
              "    <tr>\n",
              "      <th>sqft_basement</th>\n",
              "      <td>0.308729</td>\n",
              "      <td>0.335026</td>\n",
              "      <td>0.295530</td>\n",
              "      <td>0.450633</td>\n",
              "      <td>0.035885</td>\n",
              "      <td>-0.254972</td>\n",
              "      <td>0.088858</td>\n",
              "      <td>0.317607</td>\n",
              "      <td>0.197131</td>\n",
              "      <td>-0.037043</td>\n",
              "      <td>1.000000</td>\n",
              "      <td>-0.162290</td>\n",
              "      <td>0.046964</td>\n",
              "    </tr>\n",
              "    <tr>\n",
              "      <th>yr_built</th>\n",
              "      <td>0.019494</td>\n",
              "      <td>0.143099</td>\n",
              "      <td>0.465919</td>\n",
              "      <td>0.284702</td>\n",
              "      <td>0.049191</td>\n",
              "      <td>0.467045</td>\n",
              "      <td>-0.031986</td>\n",
              "      <td>-0.066630</td>\n",
              "      <td>-0.398952</td>\n",
              "      <td>0.406578</td>\n",
              "      <td>-0.162290</td>\n",
              "      <td>1.000000</td>\n",
              "      <td>-0.323336</td>\n",
              "    </tr>\n",
              "    <tr>\n",
              "      <th>yr_renovated</th>\n",
              "      <td>-0.029203</td>\n",
              "      <td>-0.060489</td>\n",
              "      <td>-0.217157</td>\n",
              "      <td>-0.122969</td>\n",
              "      <td>-0.021136</td>\n",
              "      <td>-0.237878</td>\n",
              "      <td>0.015857</td>\n",
              "      <td>0.025277</td>\n",
              "      <td>-0.184082</td>\n",
              "      <td>-0.163085</td>\n",
              "      <td>0.046964</td>\n",
              "      <td>-0.323336</td>\n",
              "      <td>1.000000</td>\n",
              "    </tr>\n",
              "  </tbody>\n",
              "</table>\n",
              "</div>"
            ],
            "text/plain": [
              "                  price  bedrooms  ...  yr_built  yr_renovated\n",
              "price          1.000000  0.298093  ...  0.019494     -0.029203\n",
              "bedrooms       0.298093  1.000000  ...  0.143099     -0.060489\n",
              "bathrooms      0.473638  0.545640  ...  0.465919     -0.217157\n",
              "sqft_living    0.624519  0.601597  ...  0.284702     -0.122969\n",
              "sqft_lot       0.073131  0.071415  ...  0.049191     -0.021136\n",
              "floors         0.221824  0.180789  ...  0.467045     -0.237878\n",
              "waterfront     0.207156 -0.005681  ... -0.031986      0.015857\n",
              "view           0.336839  0.117137  ... -0.066630      0.025277\n",
              "condition      0.042480  0.022071  ... -0.398952     -0.184082\n",
              "sqft_above     0.531923  0.492024  ...  0.406578     -0.163085\n",
              "sqft_basement  0.308729  0.335026  ... -0.162290      0.046964\n",
              "yr_built       0.019494  0.143099  ...  1.000000     -0.323336\n",
              "yr_renovated  -0.029203 -0.060489  ... -0.323336      1.000000\n",
              "\n",
              "[13 rows x 13 columns]"
            ]
          },
          "metadata": {
            "tags": []
          },
          "execution_count": 96
        }
      ]
    },
    {
      "cell_type": "code",
      "metadata": {
        "colab": {
          "base_uri": "https://localhost:8080/"
        },
        "id": "p1p77bu3t8Q8",
        "outputId": "e0887863-7098-4e31-8377-fece0a927fbf"
      },
      "source": [
        "regr.fit(X_train, y_train)\n",
        "\n",
        "y_pred = regr.predict(X_test)\n",
        "\n",
        "print(\"Mean squared error: %.2f\"\n",
        "      % mean_squared_error(y_test, y_pred))"
      ],
      "execution_count": 132,
      "outputs": [
        {
          "output_type": "stream",
          "text": [
            "Mean squared error: 137323884689.55\n"
          ],
          "name": "stdout"
        }
      ]
    },
    {
      "cell_type": "code",
      "metadata": {
        "colab": {
          "base_uri": "https://localhost:8080/"
        },
        "id": "OV_FO1SWulct",
        "outputId": "bd8fe996-73f8-4d4a-bc3e-86f4ce4948f7"
      },
      "source": [
        "print('Variance score: %.2f' % r2_score(y_test, y_pred)) "
      ],
      "execution_count": 130,
      "outputs": [
        {
          "output_type": "stream",
          "text": [
            "Variance score: 0.19\n"
          ],
          "name": "stdout"
        }
      ]
    },
    {
      "cell_type": "code",
      "metadata": {
        "colab": {
          "base_uri": "https://localhost:8080/"
        },
        "id": "mDzk8BgIumQL",
        "outputId": "1f991061-0725-4573-c20f-b83ca15f9d1b"
      },
      "source": [
        "print('Coefficients: \\n', regr.coef_)"
      ],
      "execution_count": 131,
      "outputs": [
        {
          "output_type": "stream",
          "text": [
            "Coefficients: \n",
            " [[ 165301.43896718 -245535.68834577     343.79557085]]\n"
          ],
          "name": "stdout"
        }
      ]
    }
  ]
}