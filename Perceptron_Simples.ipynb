{
  "nbformat": 4,
  "nbformat_minor": 0,
  "metadata": {
    "colab": {
      "name": "Untitled3.ipynb",
      "provenance": [],
      "collapsed_sections": [],
      "authorship_tag": "ABX9TyMMcWES3I4cS954315I3ZjQ",
      "include_colab_link": true
    },
    "kernelspec": {
      "name": "python3",
      "display_name": "Python 3"
    }
  },
  "cells": [
    {
      "cell_type": "markdown",
      "metadata": {
        "id": "view-in-github",
        "colab_type": "text"
      },
      "source": [
        "<a href=\"https://colab.research.google.com/github/dhenneyse/dhenneyse/blob/main/Perceptron_Simples.ipynb\" target=\"_parent\"><img src=\"https://colab.research.google.com/assets/colab-badge.svg\" alt=\"Open In Colab\"/></a>"
      ]
    },
    {
      "cell_type": "markdown",
      "metadata": {
        "id": "GRYuvX57stkQ"
      },
      "source": [
        "Atividade 1 - Treinamento simples de um perceptron\r\n",
        "\r\n",
        "Leandra Dhenneyse - 20190081329\r\n",
        "\r\n",
        "* O Perceptron irá aprender a classificar maçãs e laranjas através das informações de peso e pH.\r\n",
        "\r\n",
        "Maçã = -1\r\n",
        "Laranja = 1\r\n",
        "\r\n"
      ]
    },
    {
      "cell_type": "code",
      "metadata": {
        "id": "yDtFW__0sjEV"
      },
      "source": [
        "#Importar biblioteca\r\n",
        "\r\n",
        "import numpy as np\r\n",
        "\r\n",
        "#Numero de épocas (ciclos) e amostras\r\n",
        "\r\n",
        "epocas = 70000 # primeiro teste com 10000 \r\n",
        "amostras = 6\r\n"
      ],
      "execution_count": 75,
      "outputs": []
    },
    {
      "cell_type": "code",
      "metadata": {
        "id": "4HnREcE7uT-P"
      },
      "source": [
        "#Atributos\r\n",
        "peso = np.array([113, 122, 107, 98, 115, 120])\r\n",
        "ph = np.array ([ 6.8, 4.7, 5.2, 3.6, 2.9, 4.2])\r\n",
        "\r\n",
        "#bias unitário\r\n",
        "bias = 1\r\n"
      ],
      "execution_count": 76,
      "outputs": []
    },
    {
      "cell_type": "code",
      "metadata": {
        "id": "vDvjwlJ7uso5"
      },
      "source": [
        "#Perceptron\r\n",
        "\r\n",
        "X = np.array ([peso, ph])\r\n",
        "Y = np.array ([-1, 1, -1, -1, 1, 1])\r\n",
        "\r\n",
        "#Taxa de aprendizado\r\n",
        "\r\n",
        "eta = 0.1\r\n",
        "\r\n",
        "#Definir matriz para armazenar os erros\r\n",
        "\r\n",
        "e = np.zeros(6)\r\n",
        "\r\n",
        "#Definir o vetor de pesos\r\n",
        "#3 colunas, duas entradas + bias\r\n",
        "W = np.ones ([1, 3])\r\n",
        "\r\n",
        "\r\n",
        "#Função degrau\r\n",
        "\r\n",
        "def funcaoativacao (valor):\r\n",
        "  return -1 if valor <= 0 else 1\r\n",
        "\r\n",
        "for j in range (epocas):\r\n",
        "  for k in range (amostras):\r\n",
        "\r\n",
        "#Inserir o bias no vetor X (vetor de entrada)\r\n",
        "\r\n",
        "      Xb = np.hstack((bias, X[:,k]))\r\n",
        "\r\n",
        "#Realiza a multiplicação vetorial\r\n",
        "\r\n",
        "      V = np.dot(W, Xb)\r\n",
        "\r\n",
        "#Saída do perceptron\r\n",
        "\r\n",
        "      Yr = funcaoativacao (V)\r\n",
        "\r\n",
        "#Calculo do erro\r\n",
        "# e = (Y - Yr)\r\n",
        "\r\n",
        "e[k] = Y[k] - Yr\r\n"
      ],
      "execution_count": 81,
      "outputs": []
    },
    {
      "cell_type": "code",
      "metadata": {
        "id": "m_I7vPFDF31i"
      },
      "source": [
        "#Treinamento\r\n",
        "\r\n",
        "W = W + eta * e[k] *Xb"
      ],
      "execution_count": 82,
      "outputs": []
    },
    {
      "cell_type": "code",
      "metadata": {
        "colab": {
          "base_uri": "https://localhost:8080/"
        },
        "id": "ZkCSVZmuGhPs",
        "outputId": "2bac28e6-8a80-4047-9ed6-3a4e53e47c58"
      },
      "source": [
        "\r\n",
        "#Caso o resultado do vetor de erros sejam zeros, as classes foram separadas perfeitamente. \r\n",
        "#Caso não, aumentar o número de épocas para verificar a melhora do resultado.\r\n",
        "print (\"Vetor de erros (e) = \" + str(e))\r\n",
        "\r\n"
      ],
      "execution_count": 86,
      "outputs": [
        {
          "output_type": "stream",
          "text": [
            "[[1. 1. 1.]]\n",
            "Vetor de erros (e) = [0. 0. 0. 0. 0. 0.]\n"
          ],
          "name": "stdout"
        }
      ]
    }
  ]
}