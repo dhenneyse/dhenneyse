{
  "nbformat": 4,
  "nbformat_minor": 0,
  "metadata": {
    "colab": {
      "name": "Análise de sentimento - Twitter.ipynb",
      "provenance": [],
      "collapsed_sections": [],
      "authorship_tag": "ABX9TyPDktzhX9H7ah+LYjGU/vbk",
      "include_colab_link": true
    },
    "kernelspec": {
      "name": "python3",
      "display_name": "Python 3"
    },
    "language_info": {
      "name": "python"
    }
  },
  "cells": [
    {
      "cell_type": "markdown",
      "metadata": {
        "id": "view-in-github",
        "colab_type": "text"
      },
      "source": [
        "<a href=\"https://colab.research.google.com/github/dhenneyse/dhenneyse/blob/main/An%C3%A1lise_de_sentimento_Twitter.ipynb\" target=\"_parent\"><img src=\"https://colab.research.google.com/assets/colab-badge.svg\" alt=\"Open In Colab\"/></a>"
      ]
    },
    {
      "cell_type": "markdown",
      "metadata": {
        "id": "f13sydXosJo6"
      },
      "source": [
        "## **Título do Trabalho**\n",
        "\n",
        "Explicar o problema\n",
        "\n",
        "Explicar os objetivos\n",
        "\n",
        "Descrever a base de dados."
      ]
    },
    {
      "cell_type": "code",
      "metadata": {
        "id": "7u0fpLnEsDCF"
      },
      "source": [
        ""
      ],
      "execution_count": null,
      "outputs": []
    },
    {
      "cell_type": "markdown",
      "metadata": {
        "id": "VuwHhZbZsYHP"
      },
      "source": [
        "## **Metodologia**\n",
        "Explicar brevemente a técnica de machine learning escolhida\n",
        "\n",
        "Explicar as etapas de treinamento e teste"
      ]
    },
    {
      "cell_type": "code",
      "metadata": {
        "id": "yD0RKAR-seWk"
      },
      "source": [
        ""
      ],
      "execution_count": null,
      "outputs": []
    },
    {
      "cell_type": "markdown",
      "metadata": {
        "id": "ObRq0vc8shEf"
      },
      "source": [
        "## **Códigos**\n",
        "Mostrar e explicar os trechos de códigos mais importantes\n",
        "\n",
        "Informar o link para acessar o código."
      ]
    },
    {
      "cell_type": "code",
      "metadata": {
        "id": "Q-8cYy9jsl5H"
      },
      "source": [
        ""
      ],
      "execution_count": null,
      "outputs": []
    },
    {
      "cell_type": "markdown",
      "metadata": {
        "id": "ZXcaK6d7sndC"
      },
      "source": [
        "## **Experimentos**\n",
        "Descrever em detalhes os tipos de testes executados\n",
        "\n",
        "Descrever os parâmetros avaliados\n",
        "\n",
        "Explicar os resultados"
      ]
    },
    {
      "cell_type": "code",
      "metadata": {
        "id": "HPh1NlsUsr32"
      },
      "source": [
        ""
      ],
      "execution_count": null,
      "outputs": []
    },
    {
      "cell_type": "markdown",
      "metadata": {
        "id": "sQurTGPhst1H"
      },
      "source": [
        "## **Conclusão**\n",
        "O trabalho atingiu os objetivos?\n",
        "\n",
        "O que precisa ser melhorado?"
      ]
    },
    {
      "cell_type": "code",
      "metadata": {
        "id": "SYrI8_utsyBg"
      },
      "source": [
        ""
      ],
      "execution_count": null,
      "outputs": []
    }
  ]
}